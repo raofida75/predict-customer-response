{
 "cells": [
  {
   "cell_type": "markdown",
   "id": "5f827ab9",
   "metadata": {},
   "source": [
    "# ML Model Implementation\n",
    "\n",
    "- Given the offer features and user demographics, we will develop three alternative models to predict the effectiveness of an offer for each offer type. \n",
    "\n",
    "- Then, we build an all-in-one model to see if we can predict the effectiveness of an offer by including the offer type as a categorical variable. Would the nature of the offer influence the user's responsiveness? \n",
    "\n",
    "- Finally, we will attempt to develop a regression model to predict how much someone would spend in response to a successful offer."
   ]
  },
  {
   "cell_type": "markdown",
   "id": "91db864b",
   "metadata": {},
   "source": [
    "## Datasets\n",
    "\n",
    "The data is contained in three files:\n",
    "\n",
    "* portfolio.json - containing offer ids and other attributes about each offer (duration, type, etc.)\n",
    "* profile.json - demographic data for each customer\n",
    "* transcript.json - records for transactions, offers received, offers viewed, and offers completed"
   ]
  },
  {
   "cell_type": "markdown",
   "id": "430add96",
   "metadata": {},
   "source": [
    "## Table of Contents\n",
    "\n",
    "* [Load Data](#heading1)\n",
    "* [Data Preprocessing](#heading2)\n",
    "* [Model Building](#heading3)\n",
    "    1. [ML models for all offer types](#heading3.1)\n",
    "    2. [All in one ML model](#heading3.2)    \n",
    "    3. [Predict transaction amount](#heading3.3)    "
   ]
  },
  {
   "cell_type": "markdown",
   "id": "2cc9706e",
   "metadata": {},
   "source": [
    "Import all necessary libraries"
   ]
  },
  {
   "cell_type": "code",
   "execution_count": 1,
   "id": "308b8a05",
   "metadata": {},
   "outputs": [],
   "source": [
    "import pandas as pd\n",
    "import json\n",
    "import numpy as np\n",
    "import pickle\n",
    "import time\n",
    "import joblib"
   ]
  },
  {
   "cell_type": "code",
   "execution_count": 2,
   "id": "ed04b86c",
   "metadata": {},
   "outputs": [],
   "source": [
    "# importing sys\n",
    "import sys\n",
    "# adding scripts to the system path\n",
    "sys.path.insert(0, '/Users/fidahussainrao/Downloads/Predict customer response/scripts')"
   ]
  },
  {
   "cell_type": "code",
   "execution_count": 3,
   "id": "b291d490",
   "metadata": {},
   "outputs": [],
   "source": [
    "from train import *\n",
    "\n",
    "import matplotlib.pyplot as plt\n",
    "import plotly.io as pio\n",
    "pio.renderers.default='notebook'\n",
    "\n",
    "#data preprocessing\n",
    "from sklearn.model_selection import train_test_split\n",
    "from sklearn.preprocessing import MinMaxScaler\n",
    "\n",
    "# ml models\n",
    "from sklearn.tree import DecisionTreeClassifier\n",
    "from sklearn.ensemble import RandomForestClassifier, GradientBoostingClassifier\n",
    "from sklearn.ensemble import RandomForestRegressor\n",
    "from sklearn.linear_model import Ridge\n",
    "\n",
    "import warnings\n",
    "warnings.filterwarnings('ignore')"
   ]
  },
  {
   "cell_type": "markdown",
   "id": "5df5675f",
   "metadata": {},
   "source": [
    "## Load Data<a class=\"anchor\" id=\"heading1\"></a>"
   ]
  },
  {
   "cell_type": "code",
   "execution_count": 4,
   "id": "3332ea21",
   "metadata": {},
   "outputs": [],
   "source": [
    "profile = pd.read_csv('../data/cleaned/profile.csv')\n",
    "portfolio = pd.read_csv('../data/cleaned/portfolio.csv')\n",
    "transcript_processed = pd.read_csv('../data/cleaned/transcript_processed.csv')\n",
    "df = pd.read_csv('../data/cleaned/feat_engineered.csv')"
   ]
  },
  {
   "cell_type": "code",
   "execution_count": 5,
   "id": "a4bdb977",
   "metadata": {},
   "outputs": [
    {
     "data": {
      "text/html": [
       "<div>\n",
       "<style scoped>\n",
       "    .dataframe tbody tr th:only-of-type {\n",
       "        vertical-align: middle;\n",
       "    }\n",
       "\n",
       "    .dataframe tbody tr th {\n",
       "        vertical-align: top;\n",
       "    }\n",
       "\n",
       "    .dataframe thead th {\n",
       "        text-align: right;\n",
       "    }\n",
       "</style>\n",
       "<table border=\"1\" class=\"dataframe\">\n",
       "  <thead>\n",
       "    <tr style=\"text-align: right;\">\n",
       "      <th></th>\n",
       "      <th>offer_success</th>\n",
       "      <th>offer_id</th>\n",
       "      <th>person_id</th>\n",
       "      <th>percent_success</th>\n",
       "      <th>total_similar_offers_received</th>\n",
       "      <th>total_offers_received</th>\n",
       "    </tr>\n",
       "  </thead>\n",
       "  <tbody>\n",
       "    <tr>\n",
       "      <th>0</th>\n",
       "      <td>0</td>\n",
       "      <td>ae264e3637204a6fb9bb56bc8210ddfd</td>\n",
       "      <td>b84430e82831484aaa3642e41ada16d0</td>\n",
       "      <td>0.460455</td>\n",
       "      <td>1</td>\n",
       "      <td>5</td>\n",
       "    </tr>\n",
       "    <tr>\n",
       "      <th>1</th>\n",
       "      <td>1</td>\n",
       "      <td>5a8bc65990b245e5a138643cd4eb9837</td>\n",
       "      <td>b84430e82831484aaa3642e41ada16d0</td>\n",
       "      <td>0.543564</td>\n",
       "      <td>1</td>\n",
       "      <td>5</td>\n",
       "    </tr>\n",
       "    <tr>\n",
       "      <th>2</th>\n",
       "      <td>0</td>\n",
       "      <td>4d5c57ea9a6940dd891ad53e9dbe8da0</td>\n",
       "      <td>b84430e82831484aaa3642e41ada16d0</td>\n",
       "      <td>0.445979</td>\n",
       "      <td>1</td>\n",
       "      <td>5</td>\n",
       "    </tr>\n",
       "    <tr>\n",
       "      <th>3</th>\n",
       "      <td>1</td>\n",
       "      <td>ae264e3637204a6fb9bb56bc8210ddfd</td>\n",
       "      <td>21c16cf0c293423ca08647079f1783c7</td>\n",
       "      <td>0.460455</td>\n",
       "      <td>1</td>\n",
       "      <td>5</td>\n",
       "    </tr>\n",
       "    <tr>\n",
       "      <th>4</th>\n",
       "      <td>1</td>\n",
       "      <td>2906b810c7d4411798c6938adc9daaa5</td>\n",
       "      <td>21c16cf0c293423ca08647079f1783c7</td>\n",
       "      <td>0.487163</td>\n",
       "      <td>1</td>\n",
       "      <td>5</td>\n",
       "    </tr>\n",
       "  </tbody>\n",
       "</table>\n",
       "</div>"
      ],
      "text/plain": [
       "   offer_success                          offer_id  \\\n",
       "0              0  ae264e3637204a6fb9bb56bc8210ddfd   \n",
       "1              1  5a8bc65990b245e5a138643cd4eb9837   \n",
       "2              0  4d5c57ea9a6940dd891ad53e9dbe8da0   \n",
       "3              1  ae264e3637204a6fb9bb56bc8210ddfd   \n",
       "4              1  2906b810c7d4411798c6938adc9daaa5   \n",
       "\n",
       "                          person_id  percent_success  \\\n",
       "0  b84430e82831484aaa3642e41ada16d0         0.460455   \n",
       "1  b84430e82831484aaa3642e41ada16d0         0.543564   \n",
       "2  b84430e82831484aaa3642e41ada16d0         0.445979   \n",
       "3  21c16cf0c293423ca08647079f1783c7         0.460455   \n",
       "4  21c16cf0c293423ca08647079f1783c7         0.487163   \n",
       "\n",
       "   total_similar_offers_received  total_offers_received  \n",
       "0                              1                      5  \n",
       "1                              1                      5  \n",
       "2                              1                      5  \n",
       "3                              1                      5  \n",
       "4                              1                      5  "
      ]
     },
     "execution_count": 5,
     "metadata": {},
     "output_type": "execute_result"
    }
   ],
   "source": [
    "df.head()"
   ]
  },
  {
   "cell_type": "markdown",
   "id": "995f2b02",
   "metadata": {},
   "source": [
    "## Data Preprocessing<a class=\"anchor\" id=\"heading2\"></a>\n"
   ]
  },
  {
   "cell_type": "markdown",
   "id": "cb2f6642",
   "metadata": {},
   "source": [
    "Create dummy variables of the following columns:\n",
    "   \n",
    "   * Offer type \n",
    "   * Gender\n",
    "   * Membership year\n",
    "   \n",
    "A Machine learning model would not be able to comprehend string variables, hence it is imperative to convert the string values to integer. This can be achieved by creating dummy variables of those columns. A dummy variable will create a column for every unique value in each column and will return values of 0 and 1, where the values indicate the presence or absence of something."
   ]
  },
  {
   "cell_type": "code",
   "execution_count": 6,
   "id": "88ca627b",
   "metadata": {},
   "outputs": [],
   "source": [
    "portfolio = pd.get_dummies(portfolio, columns=['offer_type'])"
   ]
  },
  {
   "cell_type": "code",
   "execution_count": 7,
   "id": "772e99cc",
   "metadata": {},
   "outputs": [],
   "source": [
    "profile = pd.get_dummies(profile, columns=['gender', 'membership_year'])"
   ]
  },
  {
   "cell_type": "markdown",
   "id": "991cc773",
   "metadata": {},
   "source": [
    "Now, I'll be eliminating irrelevant columns. If we keep irrelevant columns in our data, our model will take an unnecessary amount of time. These columns include:\n",
    "   * membership_month - new memberships are constant throughout the year, hence it does not add any value.\n",
    "   * membership_day - this value also won't add any value to our analysis.\n",
    "   * age_group - age column is already present in the dataset, hence this is a duplicate column."
   ]
  },
  {
   "cell_type": "code",
   "execution_count": 8,
   "id": "20ca3f33",
   "metadata": {},
   "outputs": [],
   "source": [
    "profile = profile.drop(['membership_month', 'membership_day'],axis=1)"
   ]
  },
  {
   "cell_type": "markdown",
   "id": "d2490fe9",
   "metadata": {},
   "source": [
    "Finally, merge the preprocessed profile and portfolio datasets with the offer success and number of offers recieved columns from the previous section. "
   ]
  },
  {
   "cell_type": "code",
   "execution_count": 9,
   "id": "50e141de",
   "metadata": {},
   "outputs": [
    {
     "data": {
      "text/html": [
       "<div>\n",
       "<style scoped>\n",
       "    .dataframe tbody tr th:only-of-type {\n",
       "        vertical-align: middle;\n",
       "    }\n",
       "\n",
       "    .dataframe tbody tr th {\n",
       "        vertical-align: top;\n",
       "    }\n",
       "\n",
       "    .dataframe thead th {\n",
       "        text-align: right;\n",
       "    }\n",
       "</style>\n",
       "<table border=\"1\" class=\"dataframe\">\n",
       "  <thead>\n",
       "    <tr style=\"text-align: right;\">\n",
       "      <th></th>\n",
       "      <th>offer_success</th>\n",
       "      <th>offer_id</th>\n",
       "      <th>person_id</th>\n",
       "      <th>percent_success</th>\n",
       "      <th>total_similar_offers_received</th>\n",
       "      <th>total_offers_received</th>\n",
       "      <th>duration</th>\n",
       "      <th>difficulty</th>\n",
       "      <th>reward</th>\n",
       "      <th>email</th>\n",
       "      <th>...</th>\n",
       "      <th>member_since</th>\n",
       "      <th>gender_F</th>\n",
       "      <th>gender_M</th>\n",
       "      <th>gender_O</th>\n",
       "      <th>membership_year_2013</th>\n",
       "      <th>membership_year_2014</th>\n",
       "      <th>membership_year_2015</th>\n",
       "      <th>membership_year_2016</th>\n",
       "      <th>membership_year_2017</th>\n",
       "      <th>membership_year_2018</th>\n",
       "    </tr>\n",
       "  </thead>\n",
       "  <tbody>\n",
       "    <tr>\n",
       "      <th>0</th>\n",
       "      <td>0</td>\n",
       "      <td>ae264e3637204a6fb9bb56bc8210ddfd</td>\n",
       "      <td>b84430e82831484aaa3642e41ada16d0</td>\n",
       "      <td>0.460455</td>\n",
       "      <td>1</td>\n",
       "      <td>5</td>\n",
       "      <td>7</td>\n",
       "      <td>10</td>\n",
       "      <td>10</td>\n",
       "      <td>1</td>\n",
       "      <td>...</td>\n",
       "      <td>1849</td>\n",
       "      <td>1</td>\n",
       "      <td>0</td>\n",
       "      <td>0</td>\n",
       "      <td>0</td>\n",
       "      <td>0</td>\n",
       "      <td>0</td>\n",
       "      <td>0</td>\n",
       "      <td>1</td>\n",
       "      <td>0</td>\n",
       "    </tr>\n",
       "    <tr>\n",
       "      <th>1</th>\n",
       "      <td>1</td>\n",
       "      <td>5a8bc65990b245e5a138643cd4eb9837</td>\n",
       "      <td>b84430e82831484aaa3642e41ada16d0</td>\n",
       "      <td>0.543564</td>\n",
       "      <td>1</td>\n",
       "      <td>5</td>\n",
       "      <td>3</td>\n",
       "      <td>0</td>\n",
       "      <td>0</td>\n",
       "      <td>1</td>\n",
       "      <td>...</td>\n",
       "      <td>1849</td>\n",
       "      <td>1</td>\n",
       "      <td>0</td>\n",
       "      <td>0</td>\n",
       "      <td>0</td>\n",
       "      <td>0</td>\n",
       "      <td>0</td>\n",
       "      <td>0</td>\n",
       "      <td>1</td>\n",
       "      <td>0</td>\n",
       "    </tr>\n",
       "    <tr>\n",
       "      <th>2</th>\n",
       "      <td>0</td>\n",
       "      <td>4d5c57ea9a6940dd891ad53e9dbe8da0</td>\n",
       "      <td>b84430e82831484aaa3642e41ada16d0</td>\n",
       "      <td>0.445979</td>\n",
       "      <td>1</td>\n",
       "      <td>5</td>\n",
       "      <td>5</td>\n",
       "      <td>10</td>\n",
       "      <td>10</td>\n",
       "      <td>1</td>\n",
       "      <td>...</td>\n",
       "      <td>1849</td>\n",
       "      <td>1</td>\n",
       "      <td>0</td>\n",
       "      <td>0</td>\n",
       "      <td>0</td>\n",
       "      <td>0</td>\n",
       "      <td>0</td>\n",
       "      <td>0</td>\n",
       "      <td>1</td>\n",
       "      <td>0</td>\n",
       "    </tr>\n",
       "    <tr>\n",
       "      <th>3</th>\n",
       "      <td>1</td>\n",
       "      <td>ae264e3637204a6fb9bb56bc8210ddfd</td>\n",
       "      <td>21c16cf0c293423ca08647079f1783c7</td>\n",
       "      <td>0.460455</td>\n",
       "      <td>1</td>\n",
       "      <td>5</td>\n",
       "      <td>7</td>\n",
       "      <td>10</td>\n",
       "      <td>10</td>\n",
       "      <td>1</td>\n",
       "      <td>...</td>\n",
       "      <td>2455</td>\n",
       "      <td>0</td>\n",
       "      <td>1</td>\n",
       "      <td>0</td>\n",
       "      <td>0</td>\n",
       "      <td>0</td>\n",
       "      <td>1</td>\n",
       "      <td>0</td>\n",
       "      <td>0</td>\n",
       "      <td>0</td>\n",
       "    </tr>\n",
       "    <tr>\n",
       "      <th>4</th>\n",
       "      <td>1</td>\n",
       "      <td>2906b810c7d4411798c6938adc9daaa5</td>\n",
       "      <td>21c16cf0c293423ca08647079f1783c7</td>\n",
       "      <td>0.487163</td>\n",
       "      <td>1</td>\n",
       "      <td>5</td>\n",
       "      <td>7</td>\n",
       "      <td>10</td>\n",
       "      <td>2</td>\n",
       "      <td>1</td>\n",
       "      <td>...</td>\n",
       "      <td>2455</td>\n",
       "      <td>0</td>\n",
       "      <td>1</td>\n",
       "      <td>0</td>\n",
       "      <td>0</td>\n",
       "      <td>0</td>\n",
       "      <td>1</td>\n",
       "      <td>0</td>\n",
       "      <td>0</td>\n",
       "      <td>0</td>\n",
       "    </tr>\n",
       "  </tbody>\n",
       "</table>\n",
       "<p>5 rows × 28 columns</p>\n",
       "</div>"
      ],
      "text/plain": [
       "   offer_success                          offer_id  \\\n",
       "0              0  ae264e3637204a6fb9bb56bc8210ddfd   \n",
       "1              1  5a8bc65990b245e5a138643cd4eb9837   \n",
       "2              0  4d5c57ea9a6940dd891ad53e9dbe8da0   \n",
       "3              1  ae264e3637204a6fb9bb56bc8210ddfd   \n",
       "4              1  2906b810c7d4411798c6938adc9daaa5   \n",
       "\n",
       "                          person_id  percent_success  \\\n",
       "0  b84430e82831484aaa3642e41ada16d0         0.460455   \n",
       "1  b84430e82831484aaa3642e41ada16d0         0.543564   \n",
       "2  b84430e82831484aaa3642e41ada16d0         0.445979   \n",
       "3  21c16cf0c293423ca08647079f1783c7         0.460455   \n",
       "4  21c16cf0c293423ca08647079f1783c7         0.487163   \n",
       "\n",
       "   total_similar_offers_received  total_offers_received  duration  difficulty  \\\n",
       "0                              1                      5         7          10   \n",
       "1                              1                      5         3           0   \n",
       "2                              1                      5         5          10   \n",
       "3                              1                      5         7          10   \n",
       "4                              1                      5         7          10   \n",
       "\n",
       "   reward  email  ...  member_since  gender_F  gender_M  gender_O  \\\n",
       "0      10      1  ...          1849         1         0         0   \n",
       "1       0      1  ...          1849         1         0         0   \n",
       "2      10      1  ...          1849         1         0         0   \n",
       "3      10      1  ...          2455         0         1         0   \n",
       "4       2      1  ...          2455         0         1         0   \n",
       "\n",
       "   membership_year_2013  membership_year_2014  membership_year_2015  \\\n",
       "0                     0                     0                     0   \n",
       "1                     0                     0                     0   \n",
       "2                     0                     0                     0   \n",
       "3                     0                     0                     1   \n",
       "4                     0                     0                     1   \n",
       "\n",
       "   membership_year_2016  membership_year_2017  membership_year_2018  \n",
       "0                     0                     1                     0  \n",
       "1                     0                     1                     0  \n",
       "2                     0                     1                     0  \n",
       "3                     0                     0                     0  \n",
       "4                     0                     0                     0  \n",
       "\n",
       "[5 rows x 28 columns]"
      ]
     },
     "execution_count": 9,
     "metadata": {},
     "output_type": "execute_result"
    }
   ],
   "source": [
    "df = pd.merge(df, portfolio.iloc[:,1:], on='offer_id', how='inner')\n",
    "df = pd.merge(df, profile, on='person_id', how='inner')\n",
    "df.head()"
   ]
  },
  {
   "cell_type": "code",
   "execution_count": 10,
   "id": "fa125a92",
   "metadata": {},
   "outputs": [
    {
     "data": {
      "text/plain": [
       "1    21269\n",
       "0    18486\n",
       "Name: offer_success, dtype: int64"
      ]
     },
     "execution_count": 10,
     "metadata": {},
     "output_type": "execute_result"
    }
   ],
   "source": [
    "## checking the distribution of values in offer success column\n",
    "df['offer_success'].value_counts()"
   ]
  },
  {
   "cell_type": "markdown",
   "id": "2cc407f5",
   "metadata": {},
   "source": [
    "It can be observed that the dataset is slightly skewed. There are more successful offers than non successful ones. However, the difference is so minimal that the resampling of dataset is not really required."
   ]
  },
  {
   "cell_type": "markdown",
   "id": "6228fbd5",
   "metadata": {},
   "source": [
    "We will be removing the unique ID columns, since they are independent. Plus, they don't somehow identify the target class"
   ]
  },
  {
   "cell_type": "code",
   "execution_count": 11,
   "id": "251c1074",
   "metadata": {},
   "outputs": [],
   "source": [
    "# dropping unique columns\n",
    "df.drop(['person_id', 'offer_id'],axis=1,inplace=True)"
   ]
  },
  {
   "cell_type": "code",
   "execution_count": 12,
   "id": "7527d6e5",
   "metadata": {},
   "outputs": [],
   "source": [
    "def preprocess(data, target_class='offer_success', test_size=0.25):\n",
    "    \n",
    "    \"\"\" \n",
    "    Split the given dataset into train and test datasets. Then normalize\n",
    "    them to convert different variables belonging to various units into \n",
    "    the same scale. \n",
    "    INPUT:\n",
    "        data: merged dataframe containing customer profile, \n",
    "              offer portfolio, offer success\n",
    "        target_class: name of the dependent variable.\n",
    "        test_size: ratio of test data to train data\n",
    "    \n",
    "    OUTPUT:    \n",
    "        X_train: normalized features for training the model.\n",
    "        y_train: target variables for training the model.\n",
    "        X_test: normalized features for testing the model\n",
    "        y_test: target variables for testing the model\n",
    "    \"\"\"\n",
    "    # defining the independent (X) and dependent (y) variables.\n",
    "    X = data.drop(target_class,axis=1)\n",
    "    y = data[target_class]\n",
    "    \n",
    "    # train test split\n",
    "    X_train, X_test, y_train, y_test = train_test_split(X, y, test_size=test_size, random_state=42)\n",
    "    \n",
    "    # min max scaler to bring all the columns in the same range of 0 - 1.\n",
    "    scale = MinMaxScaler()\n",
    "    X_train = scale.fit_transform(X_train)\n",
    "    X_test = scale.transform(X_test)\n",
    "    \n",
    "    return X_train, y_train, X_test, y_test"
   ]
  },
  {
   "cell_type": "code",
   "execution_count": 13,
   "id": "65d7c673",
   "metadata": {},
   "outputs": [],
   "source": [
    "X_train, y_train, X_test, y_test = preprocess(df)"
   ]
  },
  {
   "cell_type": "markdown",
   "id": "0d8ab3e3",
   "metadata": {},
   "source": [
    "## Model Building<a class=\"anchor\" id=\"heading3\"></a>\n",
    "\n",
    "Following the pre-processing of the data, we will begin to develop models to determine which features most influence whether the customer will respond to the offer or not. \n",
    "\n",
    "As a result, we'll utilise the dataset's 'offer success' column to train models that predict whether or not the customer will accept the offer. In this section, we will take the basic tree model as a starting point to better explain feature importance and obtain insight into which features have the biggest influence on consumer behaviour. Meanwhile, in order to obtain high accuracy in training the model, I'll compare the baseline model to random forest and gradient boost as alternate models."
   ]
  },
  {
   "cell_type": "code",
   "execution_count": 14,
   "id": "368b2324",
   "metadata": {},
   "outputs": [],
   "source": [
    "offer_type_cols = ['offer_type_discount', 'offer_type_bogo', 'offer_type_informational']"
   ]
  },
  {
   "cell_type": "code",
   "execution_count": 15,
   "id": "1365f713",
   "metadata": {},
   "outputs": [],
   "source": [
    "def divide_offer_types(data, offer_type):\n",
    "    '''\n",
    "    Extracts the data for the given offer type.\n",
    "    INPUT:\n",
    "        data: combined dataframe, containing data \n",
    "        for all offer types.\n",
    "        offer_type: one of the three offer types.\n",
    "    \n",
    "    OUTPUT:\n",
    "        data: combined dataframe, containing data \n",
    "        for only the given offer type.\n",
    "        X_train: normalized training feats for given offer type.\n",
    "        y_train: train target variables for given offer type.\n",
    "        X_test: normalized testing feats for given offer type.\n",
    "        y_test: train target variables for given offer type.\n",
    "    '''\n",
    "    \n",
    "    if offer_type == 'discount':\n",
    "        var = 0\n",
    "    elif offer_type == 'bogo':\n",
    "        var = 1\n",
    "    else:\n",
    "        var = 2\n",
    "    data = data[data[offer_type_cols[var]]==1].drop(offer_type_cols, axis=1)\n",
    "    print(data['offer_success'].value_counts())\n",
    "    \n",
    "    X_train, y_train, X_test, y_test = preprocess(data)\n",
    "    \n",
    "    return data, X_train, y_train, X_test, y_test"
   ]
  },
  {
   "cell_type": "code",
   "execution_count": 16,
   "id": "10c89ab3",
   "metadata": {},
   "outputs": [],
   "source": [
    "def plot_imp_feats(feat_imp):\n",
    "   '''\n",
    "   Get a historical bar chart with the x-axis representing feature \n",
    "   importance in predicting the target variable and the y-axis \n",
    "   representing feature name.\n",
    "    INPUT:\n",
    "        feat_imp: dataframe containing feature name and its importance.\n",
    "    '''\n",
    "    plt.figure(figsize=(12,6))\n",
    "    plt.barh(width= feat_imp['importance'], y=feat_imp.index, color='lightblue')\n",
    "    plt.title('Feature Importance')\n",
    "    plt.ylabel('Feature')\n",
    "    plt.show()\n",
    "    \n",
    "\n",
    "def get_imp_feats(model, data, imp_score = 0.0075):\n",
    "    \n",
    "    '''\n",
    "    Reduce the size of the train and test data by removing unnecessary\n",
    "    columns.\n",
    "    INPUT:\n",
    "        model: fitted ensemble model\n",
    "        data: combined and preprocessed dataframe.\n",
    "        imp_score: threshold feature importance\n",
    "    OUTPUT:\n",
    "        X_train: reduced training data after feature selection.\n",
    "        y_train: reduced target classes for training.\n",
    "        X_test: reduced testing data after feature selection.\n",
    "        y_test: reduced target classes for testing.\n",
    "    '''\n",
    "    \n",
    "    feat_imp = pd.DataFrame(dict(zip(data.columns[1:], model.feature_importances_)), index=range(1)).T\n",
    "    feat_imp.columns = ['importance']\n",
    "    feat_imp = feat_imp.sort_values(by='importance',ascending=False)\n",
    "\n",
    "    plot_imp_feats(feat_imp)\n",
    "    \n",
    "    imp_cols = list(feat_imp[feat_imp['importance'] >= imp_score].index)\n",
    "    data = data[imp_cols+['offer_success']]\n",
    "    X_train, y_train, X_test, y_test = preprocess(data)\n",
    "    \n",
    "    return X_train, y_train, X_test, y_test"
   ]
  },
  {
   "cell_type": "markdown",
   "id": "4eef7c5c",
   "metadata": {},
   "source": [
    "I've defined the functions to run my model in a seperate `.py` file since I intend to implement three separate models, making it easy to do so frequently. `Metrics` defined in the function to evaluate the models are: F1 score, accuracy, and auc score.\n",
    "    \n",
    "   * Accuracy is effective if the classes are balanced. \n",
    "   * F1 score is effective if the negative class is dominant. \n",
    "   * If the positive class is in the majority, the auc score will be effective."
   ]
  },
  {
   "cell_type": "markdown",
   "id": "e1448362",
   "metadata": {},
   "source": [
    "### a. Predicting Customer Response to an Offer<a class=\"anchor\" id=\"heading3.1\"></a>\n",
    "We will begin by creating `three` seperate classification models for each offer type, depending on offer portfolio and user demographic."
   ]
  },
  {
   "cell_type": "markdown",
   "id": "1919a5ca",
   "metadata": {},
   "source": [
    "#### Discount Offer Type"
   ]
  },
  {
   "cell_type": "markdown",
   "id": "b7636fd4",
   "metadata": {},
   "source": [
    "First we try to build the discount offer models. I initialize by building a baseline tree model and compare that performance with alternative models such as Random Forest and Gradient Boosting. These models will be initialized by using default parameters. If performance needs to be improved further, I will attempt Grid Search to find the optimal parameters."
   ]
  },
  {
   "cell_type": "code",
   "execution_count": 17,
   "id": "8bb39c4c",
   "metadata": {},
   "outputs": [
    {
     "name": "stdout",
     "output_type": "stream",
     "text": [
      "1    8814\n",
      "0    6245\n",
      "Name: offer_success, dtype: int64\n"
     ]
    }
   ],
   "source": [
    "df1, X_train1, y_train1, X_test1, y_test1 = divide_offer_types(df, 'discount')"
   ]
  },
  {
   "cell_type": "code",
   "execution_count": 18,
   "id": "2c237dd0",
   "metadata": {},
   "outputs": [],
   "source": [
    "# since there are slightly more positive classes, we will be comparing auc scores of different models"
   ]
  },
  {
   "cell_type": "markdown",
   "id": "326b8f3f",
   "metadata": {},
   "source": [
    "#### <i> Baseline model (Decision tree) </i>"
   ]
  },
  {
   "cell_type": "code",
   "execution_count": 18,
   "id": "6846419e",
   "metadata": {},
   "outputs": [
    {
     "name": "stdout",
     "output_type": "stream",
     "text": [
      "DecisionTreeClassifier took 0.06 seconds to train on the data.\n",
      "\n",
      "Accuracy: 0.6728\n",
      "AUC score: 0.6627\n",
      "F1 score: 0.7203\n",
      "\n",
      "              precision    recall  f1-score   support\n",
      "\n",
      "           0       0.61      0.60      0.61      1575\n",
      "           1       0.72      0.72      0.72      2190\n",
      "\n",
      "    accuracy                           0.67      3765\n",
      "   macro avg       0.66      0.66      0.66      3765\n",
      "weighted avg       0.67      0.67      0.67      3765\n",
      "\n"
     ]
    }
   ],
   "source": [
    "dc = DecisionTreeClassifier()\n",
    "scores_ai = train(dc, X_train1, y_train1, X_test1, y_test1)"
   ]
  },
  {
   "cell_type": "code",
   "execution_count": 19,
   "id": "2dfca91b",
   "metadata": {},
   "outputs": [
    {
     "data": {
      "image/png": "[encoded data removed]",
      "text/plain": [
       "<Figure size 864x432 with 1 Axes>"
      ]
     },
     "metadata": {
      "needs_background": "light"
     },
     "output_type": "display_data"
    }
   ],
   "source": [
    "X_train11, y_train11, X_test11, y_test11 = get_imp_feats(dc, df1)"
   ]
  },
  {
   "cell_type": "markdown",
   "id": "5949fce4",
   "metadata": {},
   "source": [
    "Top **three** features for predicting offer success, given `discount` offer type: \n",
    "   - tenure of members\n",
    "   - income of the member\n",
    "   - age of the member"
   ]
  },
  {
   "cell_type": "markdown",
   "id": "bf8fc98b",
   "metadata": {},
   "source": [
    "#### <i> Alternate Models </i>"
   ]
  },
  {
   "cell_type": "code",
   "execution_count": 20,
   "id": "d86b2f8d",
   "metadata": {},
   "outputs": [],
   "source": [
    "perf = {}\n",
    "perf['offer_type'], perf['name'], perf['acc'], perf['auc'], perf['f1'] = [], [], [], [], []"
   ]
  },
  {
   "cell_type": "code",
   "execution_count": 21,
   "id": "1258280a",
   "metadata": {},
   "outputs": [
    {
     "name": "stdout",
     "output_type": "stream",
     "text": [
      "RandomForestClassifier took 1.04 seconds to train on the data.\n",
      "\n",
      "Accuracy: 0.7363\n",
      "AUC score: 0.8141\n",
      "F1 score: 0.7721\n",
      "\n",
      "              precision    recall  f1-score   support\n",
      "\n",
      "           0       0.68      0.69      0.69      1575\n",
      "           1       0.78      0.77      0.77      2190\n",
      "\n",
      "    accuracy                           0.74      3765\n",
      "   macro avg       0.73      0.73      0.73      3765\n",
      "weighted avg       0.74      0.74      0.74      3765\n",
      "\n",
      "GradientBoostingClassifier took 1.15 seconds to train on the data.\n",
      "\n",
      "Accuracy: 0.7543\n",
      "AUC score: 0.8356\n",
      "F1 score: 0.7867\n",
      "\n",
      "              precision    recall  f1-score   support\n",
      "\n",
      "           0       0.70      0.72      0.71      1575\n",
      "           1       0.79      0.78      0.79      2190\n",
      "\n",
      "    accuracy                           0.75      3765\n",
      "   macro avg       0.75      0.75      0.75      3765\n",
      "weighted avg       0.76      0.75      0.75      3765\n",
      "\n"
     ]
    }
   ],
   "source": [
    "clf_a1 = RandomForestClassifier(random_state=0)\n",
    "clf_a2 = GradientBoostingClassifier(random_state=0)\n",
    "models_a = [clf_a1, clf_a2]\n",
    "for clf in models_a:\n",
    "    scores_a = train(clf, X_train11, y_train11, X_test11, y_test11)\n",
    "    perf['offer_type'].append('discount')\n",
    "    perf['name'].append(clf.__class__.__name__)\n",
    "    perf['acc'].append(scores_a[0])\n",
    "    perf['auc'].append(scores_a[1])    \n",
    "    perf['f1'].append(scores_a[2])   \n"
   ]
  },
  {
   "cell_type": "markdown",
   "id": "25f01a77",
   "metadata": {},
   "source": [
    "In terms of the AUC score, both models are above 80%, with the Gradient boosting model performing slightly better compared to the Random Forest model, with **83.56%** vs **81.41%**.\n"
   ]
  },
  {
   "cell_type": "markdown",
   "id": "d5b0fb28",
   "metadata": {},
   "source": [
    "#### BOGO Offer Type"
   ]
  },
  {
   "cell_type": "markdown",
   "id": "603928e5",
   "metadata": {},
   "source": [
    "Now we will build the bogo offer models. I will repeat the same steps as above."
   ]
  },
  {
   "cell_type": "code",
   "execution_count": 22,
   "id": "264a8401",
   "metadata": {},
   "outputs": [
    {
     "name": "stdout",
     "output_type": "stream",
     "text": [
      "1    8574\n",
      "0    8546\n",
      "Name: offer_success, dtype: int64\n"
     ]
    }
   ],
   "source": [
    "df2, X_train2, y_train2, X_test2, y_test2 = divide_offer_types(df, 'bogo')\n"
   ]
  },
  {
   "cell_type": "code",
   "execution_count": null,
   "id": "72e1daeb",
   "metadata": {},
   "outputs": [],
   "source": [
    "# it appears that the dataset is almost balanced; hence,we will be comparing accuracy"
   ]
  },
  {
   "cell_type": "markdown",
   "id": "58170566",
   "metadata": {},
   "source": [
    "#### <i> Baseline model (Decision tree) </i>"
   ]
  },
  {
   "cell_type": "code",
   "execution_count": 23,
   "id": "f46ae00a",
   "metadata": {},
   "outputs": [
    {
     "name": "stdout",
     "output_type": "stream",
     "text": [
      "DecisionTreeClassifier took 0.07 seconds to train on the data.\n",
      "\n",
      "Accuracy: 0.6329\n",
      "AUC score: 0.6332\n",
      "F1 score: 0.6320\n",
      "\n",
      "              precision    recall  f1-score   support\n",
      "\n",
      "           0       0.62      0.65      0.63      2101\n",
      "           1       0.65      0.62      0.63      2179\n",
      "\n",
      "    accuracy                           0.63      4280\n",
      "   macro avg       0.63      0.63      0.63      4280\n",
      "weighted avg       0.63      0.63      0.63      4280\n",
      "\n"
     ]
    }
   ],
   "source": [
    "dc = DecisionTreeClassifier()\n",
    "scores_aii = train(dc, X_train2, y_train2, X_test2, y_test2)"
   ]
  },
  {
   "cell_type": "code",
   "execution_count": 24,
   "id": "e8219b9b",
   "metadata": {},
   "outputs": [
    {
     "data": {
      "image/png": "[encoded data removed]",
      "text/plain": [
       "<Figure size 864x432 with 1 Axes>"
      ]
     },
     "metadata": {
      "needs_background": "light"
     },
     "output_type": "display_data"
    }
   ],
   "source": [
    "X_train21, y_train21, X_test21, y_test21 = get_imp_feats(dc, df2)"
   ]
  },
  {
   "cell_type": "markdown",
   "id": "2402d116",
   "metadata": {},
   "source": [
    "Top **three** features for predicting offer success, given `bogo` offer type: \n",
    "   - tenure of members\n",
    "   - income of the member\n",
    "   - age of the member"
   ]
  },
  {
   "cell_type": "markdown",
   "id": "48c26899",
   "metadata": {},
   "source": [
    "#### <i> Alternate Models </i>"
   ]
  },
  {
   "cell_type": "code",
   "execution_count": 25,
   "id": "b7f7ac4e",
   "metadata": {},
   "outputs": [
    {
     "name": "stdout",
     "output_type": "stream",
     "text": [
      "RandomForestClassifier took 1.18 seconds to train on the data.\n",
      "\n",
      "Accuracy: 0.6843\n",
      "AUC score: 0.7496\n",
      "F1 score: 0.6820\n",
      "\n",
      "              precision    recall  f1-score   support\n",
      "\n",
      "           0       0.67      0.70      0.69      2101\n",
      "           1       0.70      0.66      0.68      2179\n",
      "\n",
      "    accuracy                           0.68      4280\n",
      "   macro avg       0.68      0.68      0.68      4280\n",
      "weighted avg       0.69      0.68      0.68      4280\n",
      "\n",
      "GradientBoostingClassifier took 1.3 seconds to train on the data.\n",
      "\n",
      "Accuracy: 0.7152\n",
      "AUC score: 0.7795\n",
      "F1 score: 0.7135\n",
      "\n",
      "              precision    recall  f1-score   support\n",
      "\n",
      "           0       0.70      0.73      0.72      2101\n",
      "           1       0.73      0.70      0.71      2179\n",
      "\n",
      "    accuracy                           0.72      4280\n",
      "   macro avg       0.72      0.72      0.72      4280\n",
      "weighted avg       0.72      0.72      0.72      4280\n",
      "\n"
     ]
    }
   ],
   "source": [
    "clf_b1 = RandomForestClassifier(random_state=0)\n",
    "clf_b2 = GradientBoostingClassifier(random_state=0)\n",
    "models_b = [clf_b1, clf_b2]\n",
    "for clf in models_b:\n",
    "    scores_b = train(clf, X_train21, y_train21, X_test21, y_test21)\n",
    "    perf['offer_type'].append('bogo')\n",
    "    perf['name'].append(clf.__class__.__name__)\n",
    "    perf['acc'].append(scores_b[0])\n",
    "    perf['auc'].append(scores_b[1])    \n",
    "    perf['f1'].append(scores_b[2])   "
   ]
  },
  {
   "cell_type": "markdown",
   "id": "fd832da6",
   "metadata": {},
   "source": [
    "In terms of the accuracy, both models are below 75%, with the Gradient boosting model performing slightly better compared to the Random Forest model, with **71.52%** vs **68.43%**."
   ]
  },
  {
   "cell_type": "markdown",
   "id": "597118e3",
   "metadata": {},
   "source": [
    "#### Informational Offer type"
   ]
  },
  {
   "cell_type": "markdown",
   "id": "9b22ceea",
   "metadata": {},
   "source": [
    "Now we will build the informational offer models. I will repeat the same steps as above."
   ]
  },
  {
   "cell_type": "code",
   "execution_count": 26,
   "id": "8e883402",
   "metadata": {},
   "outputs": [
    {
     "name": "stdout",
     "output_type": "stream",
     "text": [
      "1    3881\n",
      "0    3695\n",
      "Name: offer_success, dtype: int64\n"
     ]
    }
   ],
   "source": [
    "df3, X_train3, y_train3, X_test3, y_test3 = divide_offer_types(df, 'informational')"
   ]
  },
  {
   "cell_type": "code",
   "execution_count": null,
   "id": "47e0de41",
   "metadata": {},
   "outputs": [],
   "source": [
    "# it appears that the dataset is almost balanced; hence,we will be comparing accuracy."
   ]
  },
  {
   "cell_type": "markdown",
   "id": "3c75c7e4",
   "metadata": {},
   "source": [
    "#### <i> Baseline model (Decision tree) </i>"
   ]
  },
  {
   "cell_type": "code",
   "execution_count": 27,
   "id": "48233f7e",
   "metadata": {},
   "outputs": [
    {
     "name": "stdout",
     "output_type": "stream",
     "text": [
      "DecisionTreeClassifier took 0.03 seconds to train on the data.\n",
      "\n",
      "Accuracy: 0.5380\n",
      "AUC score: 0.5376\n",
      "F1 score: 0.5524\n",
      "\n",
      "              precision    recall  f1-score   support\n",
      "\n",
      "           0       0.53      0.52      0.52       925\n",
      "           1       0.55      0.56      0.55       969\n",
      "\n",
      "    accuracy                           0.54      1894\n",
      "   macro avg       0.54      0.54      0.54      1894\n",
      "weighted avg       0.54      0.54      0.54      1894\n",
      "\n"
     ]
    }
   ],
   "source": [
    "dc = DecisionTreeClassifier()\n",
    "scores_aiii = train(dc, X_train3, y_train3, X_test3, y_test3)"
   ]
  },
  {
   "cell_type": "code",
   "execution_count": 28,
   "id": "dfae3d7a",
   "metadata": {},
   "outputs": [
    {
     "data": {
      "image/png": "[encoded data removed]",
      "text/plain": [
       "<Figure size 864x432 with 1 Axes>"
      ]
     },
     "metadata": {
      "needs_background": "light"
     },
     "output_type": "display_data"
    }
   ],
   "source": [
    "X_train31, y_train31, X_test31, y_test31 = get_imp_feats(dc, df3)"
   ]
  },
  {
   "cell_type": "markdown",
   "id": "d46b2b80",
   "metadata": {},
   "source": [
    "Top **three** features for predicting offer success, given `bogo` offer type: \n",
    "   - tenure of member\n",
    "   - age of the member\n",
    "   - income of the member"
   ]
  },
  {
   "cell_type": "markdown",
   "id": "482b9ffe",
   "metadata": {},
   "source": [
    "#### <i> Alternate Models </i>"
   ]
  },
  {
   "cell_type": "code",
   "execution_count": 29,
   "id": "7e5e6316",
   "metadata": {},
   "outputs": [
    {
     "name": "stdout",
     "output_type": "stream",
     "text": [
      "RandomForestClassifier took 0.62 seconds to train on the data.\n",
      "\n",
      "Accuracy: 0.6014\n",
      "AUC score: 0.6380\n",
      "F1 score: 0.6185\n",
      "\n",
      "              precision    recall  f1-score   support\n",
      "\n",
      "           0       0.60      0.57      0.58       925\n",
      "           1       0.61      0.63      0.62       969\n",
      "\n",
      "    accuracy                           0.60      1894\n",
      "   macro avg       0.60      0.60      0.60      1894\n",
      "weighted avg       0.60      0.60      0.60      1894\n",
      "\n",
      "GradientBoostingClassifier took 0.54 seconds to train on the data.\n",
      "\n",
      "Accuracy: 0.6188\n",
      "AUC score: 0.6647\n",
      "F1 score: 0.6515\n",
      "\n",
      "              precision    recall  f1-score   support\n",
      "\n",
      "           0       0.63      0.54      0.58       925\n",
      "           1       0.61      0.70      0.65       969\n",
      "\n",
      "    accuracy                           0.62      1894\n",
      "   macro avg       0.62      0.62      0.62      1894\n",
      "weighted avg       0.62      0.62      0.62      1894\n",
      "\n"
     ]
    }
   ],
   "source": [
    "clf_c1 = RandomForestClassifier(random_state=0)\n",
    "clf_c2 = GradientBoostingClassifier(random_state=0)\n",
    "models_c = [clf_c1, clf_c2]\n",
    "for clf in models_c:\n",
    "    scores_c = train(clf, X_train31, y_train31, X_test31, y_test31)\n",
    "    perf['offer_type'].append('informational')\n",
    "    perf['name'].append(clf.__class__.__name__)\n",
    "    perf['acc'].append(scores_c[0])\n",
    "    perf['auc'].append(scores_c[1])    \n",
    "    perf['f1'].append(scores_c[2]) "
   ]
  },
  {
   "cell_type": "markdown",
   "id": "d1b42557",
   "metadata": {},
   "source": [
    "In terms of the accuracy, both models are below 65%, with the Gradient boosting model performing slightly better compared to the Random Forest model, with **61.88%** vs **60.14%**."
   ]
  },
  {
   "cell_type": "markdown",
   "id": "109f33cd",
   "metadata": {},
   "source": [
    "### b. Using Offer Type as a Categorical Feature to Predict Customer Response<a class=\"anchor\" id=\"heading3.2\"></a>"
   ]
  },
  {
   "cell_type": "code",
   "execution_count": 30,
   "id": "7ba9b77b",
   "metadata": {},
   "outputs": [
    {
     "data": {
      "text/plain": [
       "1    21269\n",
       "0    18486\n",
       "Name: offer_success, dtype: int64"
      ]
     },
     "execution_count": 30,
     "metadata": {},
     "output_type": "execute_result"
    }
   ],
   "source": [
    "df['offer_success'].value_counts()"
   ]
  },
  {
   "cell_type": "markdown",
   "id": "22f8acad",
   "metadata": {},
   "source": [
    "#### <i> Baseline model (Decision tree) </i>"
   ]
  },
  {
   "cell_type": "code",
   "execution_count": 31,
   "id": "8814abb6",
   "metadata": {},
   "outputs": [
    {
     "name": "stdout",
     "output_type": "stream",
     "text": [
      "DecisionTreeClassifier took 0.18 seconds to train on the data.\n",
      "\n",
      "Accuracy: 0.6341\n",
      "AUC score: 0.6318\n",
      "F1 score: 0.6614\n",
      "\n",
      "              precision    recall  f1-score   support\n",
      "\n",
      "           0       0.60      0.60      0.60      4551\n",
      "           1       0.66      0.66      0.66      5388\n",
      "\n",
      "    accuracy                           0.63      9939\n",
      "   macro avg       0.63      0.63      0.63      9939\n",
      "weighted avg       0.63      0.63      0.63      9939\n",
      "\n"
     ]
    }
   ],
   "source": [
    "dc = DecisionTreeClassifier()\n",
    "scores_b = train(dc, X_train, y_train, X_test, y_test)"
   ]
  },
  {
   "cell_type": "code",
   "execution_count": 32,
   "id": "51ee7c9f",
   "metadata": {},
   "outputs": [
    {
     "data": {
      "image/png": "[encoded data removed]",
      "text/plain": [
       "<Figure size 864x432 with 1 Axes>"
      ]
     },
     "metadata": {
      "needs_background": "light"
     },
     "output_type": "display_data"
    }
   ],
   "source": [
    "X_train, y_train, X_test, y_test = get_imp_feats(dc, df)"
   ]
  },
  {
   "cell_type": "markdown",
   "id": "79124361",
   "metadata": {},
   "source": [
    "#### <i> Alternate Models </i>"
   ]
  },
  {
   "cell_type": "code",
   "execution_count": 33,
   "id": "a8ed89b3",
   "metadata": {},
   "outputs": [
    {
     "name": "stdout",
     "output_type": "stream",
     "text": [
      "RandomForestClassifier took 3.06 seconds to train on the data.\n",
      "\n",
      "Accuracy: 0.6933\n",
      "AUC score: 0.7644\n",
      "F1 score: 0.7147\n",
      "\n",
      "              precision    recall  f1-score   support\n",
      "\n",
      "           0       0.66      0.68      0.67      4551\n",
      "           1       0.72      0.71      0.71      5388\n",
      "\n",
      "    accuracy                           0.69      9939\n",
      "   macro avg       0.69      0.69      0.69      9939\n",
      "weighted avg       0.69      0.69      0.69      9939\n",
      "\n",
      "GradientBoostingClassifier took 3.12 seconds to train on the data.\n",
      "\n",
      "Accuracy: 0.7124\n",
      "AUC score: 0.7886\n",
      "F1 score: 0.7311\n",
      "\n",
      "              precision    recall  f1-score   support\n",
      "\n",
      "           0       0.68      0.70      0.69      4551\n",
      "           1       0.74      0.72      0.73      5388\n",
      "\n",
      "    accuracy                           0.71      9939\n",
      "   macro avg       0.71      0.71      0.71      9939\n",
      "weighted avg       0.71      0.71      0.71      9939\n",
      "\n"
     ]
    }
   ],
   "source": [
    "clf_d1 = RandomForestClassifier(random_state=0)\n",
    "clf_d2 = GradientBoostingClassifier(random_state=0)\n",
    "models_d = [clf_d1, clf_d2]\n",
    "for clf in models_d:\n",
    "    scores_d = train(clf, X_train, y_train, X_test, y_test)\n",
    "    perf['offer_type'].append('All')\n",
    "    perf['name'].append(clf.__class__.__name__)\n",
    "    perf['acc'].append(scores_d[0])\n",
    "    perf['auc'].append(scores_d[1])    \n",
    "    perf['f1'].append(scores_d[2]) "
   ]
  },
  {
   "cell_type": "markdown",
   "id": "c8c198a9",
   "metadata": {},
   "source": [
    "#### <i>  GridSearch </i> \n",
    "\n",
    "To increase the model's performance, we will now attempt to tweak the parameters of the RF and GB models using the GridSearch approach.\n",
    "\n"
   ]
  },
  {
   "cell_type": "code",
   "execution_count": 34,
   "id": "988707c8",
   "metadata": {},
   "outputs": [
    {
     "name": "stdout",
     "output_type": "stream",
     "text": [
      "Started training for rfc model\n",
      "Successfully fitted rfc model\n",
      "Started training for gbc model\n",
      "Successfully fitted gbc model\n"
     ]
    }
   ],
   "source": [
    "fitted_models, scores = grid_pipeline(X_train, y_train, X_test, y_test, 'roc_auc')"
   ]
  },
  {
   "cell_type": "code",
   "execution_count": 35,
   "id": "8d41b4da",
   "metadata": {},
   "outputs": [
    {
     "name": "stdout",
     "output_type": "stream",
     "text": [
      "Performance of all the fitted models on the discount offer type.\n",
      "rfc : 0.78782739363841\n",
      "-------------------------------------\n",
      "gbc : 0.7909352872346517\n",
      "-------------------------------------\n"
     ]
    }
   ],
   "source": [
    "print('Performance of all the fitted models on the discount offer type.')\n",
    "for idx, key in enumerate(fitted_models.keys()):\n",
    "    print(key, ':', scores[idx])\n",
    "    print('-------------------------------------')"
   ]
  },
  {
   "cell_type": "code",
   "execution_count": 36,
   "id": "219acb4e",
   "metadata": {},
   "outputs": [
    {
     "data": {
      "text/plain": [
       "{'gradientboostingclassifier__learning_rate': 0.1,\n",
       " 'gradientboostingclassifier__min_samples_leaf': 1,\n",
       " 'gradientboostingclassifier__n_estimators': 200}"
      ]
     },
     "execution_count": 36,
     "metadata": {},
     "output_type": "execute_result"
    }
   ],
   "source": [
    "fitted_models['gbc'].best_params_"
   ]
  },
  {
   "cell_type": "markdown",
   "id": "b81cd351",
   "metadata": {},
   "source": [
    "The AUC for the RF model increased significantly from 76.44% to 78.78%, while the AUC of GB model increased from 78.86% to 79.09%. There is a minimal increase in performance for GB model, which indicates that perhaps there's not much that can be done to improve the performance of the model with parameter tuning."
   ]
  },
  {
   "cell_type": "markdown",
   "id": "558772ad",
   "metadata": {},
   "source": [
    "Comparing the performance of the 3 best models for each offer type with the all_in_one model, we can see that the all_in_one model is not as good as the GB bogo and RF discount models, and is significantly better than the GB informational model. This is probably due to informational offer type bringing down the performance of all_in_one model. Hence, I think that keeping 3 separate models is not very useful."
   ]
  },
  {
   "cell_type": "code",
   "execution_count": 38,
   "id": "797641cc",
   "metadata": {},
   "outputs": [
    {
     "data": {
      "text/plain": [
       "['../model/all_in_one_model.pkl']"
      ]
     },
     "execution_count": 38,
     "metadata": {},
     "output_type": "execute_result"
    }
   ],
   "source": [
    "# save the best model\n",
    "joblib.dump(fitted_models['gbc'], \"../model/all_in_one_model.pkl\") "
   ]
  },
  {
   "cell_type": "markdown",
   "id": "5914b2bf",
   "metadata": {},
   "source": [
    "### c. Predicting How Much a Customer Would Spend Given a Successful Offer.<a class=\"anchor\" id=\"heading3.3\"></a>\n",
    "Finally, given a successful order, I will attempt to develop a regression model to estimate how much a consumer will spend. We will be using offer type as a categorical feature. \n",
    "To accomplish this, we will extract the effective offers and then sum the amount spent on an indivisual offer by each consumer."
   ]
  },
  {
   "cell_type": "code",
   "execution_count": 39,
   "id": "98f51c1c",
   "metadata": {},
   "outputs": [],
   "source": [
    "with open('../data/cleaned/offer_success.pkl', 'rb') as f:\n",
    "    loaded_dict = pickle.load(f)"
   ]
  },
  {
   "cell_type": "code",
   "execution_count": 40,
   "id": "39cdb5be",
   "metadata": {},
   "outputs": [],
   "source": [
    "effective_ids = pd.DataFrame.from_dict(loaded_dict)\n",
    "# get only the successful offers\n",
    "effective_ids = effective_ids[effective_ids['offer_success'] == 1]\n",
    "# getting the order ids and person ids, this will be used to get the total amount spent.\n",
    "effective_ids = effective_ids[['offer_id', 'person_id']]\n"
   ]
  },
  {
   "cell_type": "code",
   "execution_count": 41,
   "id": "84519b95",
   "metadata": {},
   "outputs": [
    {
     "data": {
      "text/html": [
       "<div>\n",
       "<style scoped>\n",
       "    .dataframe tbody tr th:only-of-type {\n",
       "        vertical-align: middle;\n",
       "    }\n",
       "\n",
       "    .dataframe tbody tr th {\n",
       "        vertical-align: top;\n",
       "    }\n",
       "\n",
       "    .dataframe thead th {\n",
       "        text-align: right;\n",
       "    }\n",
       "</style>\n",
       "<table border=\"1\" class=\"dataframe\">\n",
       "  <thead>\n",
       "    <tr style=\"text-align: right;\">\n",
       "      <th></th>\n",
       "      <th>person_id</th>\n",
       "      <th>offer_id</th>\n",
       "      <th>amount</th>\n",
       "    </tr>\n",
       "  </thead>\n",
       "  <tbody>\n",
       "    <tr>\n",
       "      <th>0</th>\n",
       "      <td>0009655768c64bdeb2e877511632db8f</td>\n",
       "      <td>5a8bc65990b245e5a138643cd4eb9837</td>\n",
       "      <td>22.16</td>\n",
       "    </tr>\n",
       "    <tr>\n",
       "      <th>1</th>\n",
       "      <td>0011e0d4e6b944f998e987f904e8c1e5</td>\n",
       "      <td>2298d6c36e964ae4a3e7e9706d1fb8c2</td>\n",
       "      <td>11.93</td>\n",
       "    </tr>\n",
       "    <tr>\n",
       "      <th>2</th>\n",
       "      <td>0011e0d4e6b944f998e987f904e8c1e5</td>\n",
       "      <td>9b98b8c7a33c4b65b9aebfe6a799e6d9</td>\n",
       "      <td>45.08</td>\n",
       "    </tr>\n",
       "  </tbody>\n",
       "</table>\n",
       "</div>"
      ],
      "text/plain": [
       "                          person_id                          offer_id  amount\n",
       "0  0009655768c64bdeb2e877511632db8f  5a8bc65990b245e5a138643cd4eb9837   22.16\n",
       "1  0011e0d4e6b944f998e987f904e8c1e5  2298d6c36e964ae4a3e7e9706d1fb8c2   11.93\n",
       "2  0011e0d4e6b944f998e987f904e8c1e5  9b98b8c7a33c4b65b9aebfe6a799e6d9   45.08"
      ]
     },
     "execution_count": 41,
     "metadata": {},
     "output_type": "execute_result"
    }
   ],
   "source": [
    "# merge with the transcript data.\n",
    "# This will be further used to sum up the transactions for each customer for an offer.\n",
    "amount_data = pd.merge(transcript_processed, effective_ids, on=['person_id', 'offer_id'], how='inner')\n",
    "amount_data = amount_data.groupby(['person_id', 'offer_id']).sum()['amount'].reset_index()\n",
    "amount_data.head(3)"
   ]
  },
  {
   "cell_type": "markdown",
   "id": "e8df824e",
   "metadata": {},
   "source": [
    "Merge the amount spend by all the customers for each offer with the user demographics and order portfolio dataframes."
   ]
  },
  {
   "cell_type": "code",
   "execution_count": 42,
   "id": "15277133",
   "metadata": {},
   "outputs": [
    {
     "data": {
      "text/html": [
       "<div>\n",
       "<style scoped>\n",
       "    .dataframe tbody tr th:only-of-type {\n",
       "        vertical-align: middle;\n",
       "    }\n",
       "\n",
       "    .dataframe tbody tr th {\n",
       "        vertical-align: top;\n",
       "    }\n",
       "\n",
       "    .dataframe thead th {\n",
       "        text-align: right;\n",
       "    }\n",
       "</style>\n",
       "<table border=\"1\" class=\"dataframe\">\n",
       "  <thead>\n",
       "    <tr style=\"text-align: right;\">\n",
       "      <th></th>\n",
       "      <th>age</th>\n",
       "      <th>person_id</th>\n",
       "      <th>income</th>\n",
       "      <th>member_since</th>\n",
       "      <th>gender_F</th>\n",
       "      <th>gender_M</th>\n",
       "      <th>gender_O</th>\n",
       "      <th>membership_year_2013</th>\n",
       "      <th>membership_year_2014</th>\n",
       "      <th>membership_year_2015</th>\n",
       "      <th>...</th>\n",
       "      <th>difficulty</th>\n",
       "      <th>reward</th>\n",
       "      <th>email</th>\n",
       "      <th>web</th>\n",
       "      <th>mobile</th>\n",
       "      <th>social</th>\n",
       "      <th>offer_type_bogo</th>\n",
       "      <th>offer_type_discount</th>\n",
       "      <th>offer_type_informational</th>\n",
       "      <th>amount</th>\n",
       "    </tr>\n",
       "  </thead>\n",
       "  <tbody>\n",
       "    <tr>\n",
       "      <th>0</th>\n",
       "      <td>75</td>\n",
       "      <td>78afa995795e4d85b5d9ceeca43f5fef</td>\n",
       "      <td>100000.0</td>\n",
       "      <td>1894</td>\n",
       "      <td>1</td>\n",
       "      <td>0</td>\n",
       "      <td>0</td>\n",
       "      <td>0</td>\n",
       "      <td>0</td>\n",
       "      <td>0</td>\n",
       "      <td>...</td>\n",
       "      <td>5</td>\n",
       "      <td>5</td>\n",
       "      <td>1</td>\n",
       "      <td>1</td>\n",
       "      <td>1</td>\n",
       "      <td>0</td>\n",
       "      <td>1</td>\n",
       "      <td>0</td>\n",
       "      <td>0</td>\n",
       "      <td>37.67</td>\n",
       "    </tr>\n",
       "    <tr>\n",
       "      <th>1</th>\n",
       "      <td>75</td>\n",
       "      <td>78afa995795e4d85b5d9ceeca43f5fef</td>\n",
       "      <td>100000.0</td>\n",
       "      <td>1894</td>\n",
       "      <td>1</td>\n",
       "      <td>0</td>\n",
       "      <td>0</td>\n",
       "      <td>0</td>\n",
       "      <td>0</td>\n",
       "      <td>0</td>\n",
       "      <td>...</td>\n",
       "      <td>0</td>\n",
       "      <td>0</td>\n",
       "      <td>1</td>\n",
       "      <td>0</td>\n",
       "      <td>1</td>\n",
       "      <td>1</td>\n",
       "      <td>0</td>\n",
       "      <td>0</td>\n",
       "      <td>1</td>\n",
       "      <td>19.67</td>\n",
       "    </tr>\n",
       "    <tr>\n",
       "      <th>2</th>\n",
       "      <td>68</td>\n",
       "      <td>e2127556f4f64592b11af22de27a7932</td>\n",
       "      <td>70000.0</td>\n",
       "      <td>1542</td>\n",
       "      <td>0</td>\n",
       "      <td>1</td>\n",
       "      <td>0</td>\n",
       "      <td>0</td>\n",
       "      <td>0</td>\n",
       "      <td>0</td>\n",
       "      <td>...</td>\n",
       "      <td>10</td>\n",
       "      <td>2</td>\n",
       "      <td>1</td>\n",
       "      <td>1</td>\n",
       "      <td>1</td>\n",
       "      <td>1</td>\n",
       "      <td>0</td>\n",
       "      <td>1</td>\n",
       "      <td>0</td>\n",
       "      <td>18.42</td>\n",
       "    </tr>\n",
       "  </tbody>\n",
       "</table>\n",
       "<p>3 rows × 25 columns</p>\n",
       "</div>"
      ],
      "text/plain": [
       "   age                         person_id    income  member_since  gender_F  \\\n",
       "0   75  78afa995795e4d85b5d9ceeca43f5fef  100000.0          1894         1   \n",
       "1   75  78afa995795e4d85b5d9ceeca43f5fef  100000.0          1894         1   \n",
       "2   68  e2127556f4f64592b11af22de27a7932   70000.0          1542         0   \n",
       "\n",
       "   gender_M  gender_O  membership_year_2013  membership_year_2014  \\\n",
       "0         0         0                     0                     0   \n",
       "1         0         0                     0                     0   \n",
       "2         1         0                     0                     0   \n",
       "\n",
       "   membership_year_2015  ...  difficulty  reward  email web  mobile  social  \\\n",
       "0                     0  ...           5       5      1   1       1       0   \n",
       "1                     0  ...           0       0      1   0       1       1   \n",
       "2                     0  ...          10       2      1   1       1       1   \n",
       "\n",
       "   offer_type_bogo  offer_type_discount  offer_type_informational  amount  \n",
       "0                1                    0                         0   37.67  \n",
       "1                0                    0                         1   19.67  \n",
       "2                0                    1                         0   18.42  \n",
       "\n",
       "[3 rows x 25 columns]"
      ]
     },
     "execution_count": 42,
     "metadata": {},
     "output_type": "execute_result"
    }
   ],
   "source": [
    "amount_data = pd.merge(portfolio.iloc[:,1:], amount_data, on='offer_id', how='inner')\n",
    "amount_data = pd.merge(profile, amount_data, on='person_id', how='inner')\n",
    "amount_data.head(3)"
   ]
  },
  {
   "cell_type": "markdown",
   "id": "d0c97f4c",
   "metadata": {},
   "source": [
    "Since this is a regression model, we need to prevent multicollinearity by reducing the level of the dummy variables by 1, dropping those columns."
   ]
  },
  {
   "cell_type": "code",
   "execution_count": 43,
   "id": "14a739b4",
   "metadata": {},
   "outputs": [],
   "source": [
    "amount_data.drop(['gender_O', 'membership_year_2013', 'social', 'offer_type_informational'], \n",
    "                 axis=1, inplace=True)\n",
    "\n",
    "## removing unique ids as well.\n",
    "amount_data.drop(['person_id', 'offer_id'], axis=1, inplace=True)"
   ]
  },
  {
   "cell_type": "code",
   "execution_count": 44,
   "id": "bde78c23",
   "metadata": {},
   "outputs": [],
   "source": [
    "# 1. split the dataframe into train and test dataset\n",
    "# 2. Scale the features to a range of 0 and 1.\n",
    "X_train, y_train, X_test, y_test = preprocess(amount_data, target_class='amount')"
   ]
  },
  {
   "cell_type": "code",
   "execution_count": 45,
   "id": "86073f29",
   "metadata": {},
   "outputs": [
    {
     "name": "stdout",
     "output_type": "stream",
     "text": [
      "Ridge took 0.02 seconds to train on the data.\n",
      "\n",
      "r2 score: 0.0672\n",
      "Mean Squared Error: 2808.9303\n",
      "Root Mean Squared Error: 52.9993\n",
      "\n",
      "RandomForestRegressor took 5.97 seconds to train on the data.\n",
      "\n",
      "r2 score: -0.0595\n",
      "Mean Squared Error: 3190.6987\n",
      "Root Mean Squared Error: 56.4863\n",
      "\n"
     ]
    }
   ],
   "source": [
    "reg_1 = Ridge(alpha=100,random_state=2)\n",
    "reg_2 = RandomForestRegressor(random_state=0)\n",
    "regressors = [reg_1, reg_2]\n",
    "for reg in regressors:\n",
    "    sc_reg = train(reg, X_train, y_train, X_test, y_test, classifier=False)"
   ]
  },
  {
   "cell_type": "markdown",
   "id": "ed253c69",
   "metadata": {},
   "source": [
    "In terms of predicting the amount spent, the regression model significantly underperformed. It looks that there is insufficient information to predict the amount based on the data for customers who successfully finished their offer."
   ]
  },
  {
   "cell_type": "markdown",
   "id": "86cdc891",
   "metadata": {},
   "source": [
    "## Conclusion"
   ]
  },
  {
   "cell_type": "markdown",
   "id": "5aae5df1",
   "metadata": {},
   "source": [
    "From the result of the project, it is possible to utilise a machine learning model to predict whether or not the customer will complete the offer. \n",
    "\n",
    "Goal of this project was to determine the following questions: \n",
    "\n",
    "1. What features primarily influence customer use of the offer? \n",
    "\n",
    "The feature importance assigned by three models indicates that the term of the membership is the most critical element influencing how customers respond to the offer. \n",
    "The top three variables for all three models were nearly identical for each offer type: `length of membership`, `income`, and `age`. However, the order of income and age changed based on the type of offer. \n",
    "\n",
    "2. Given the data available, including the offer attributes and user demographics, indicate whether a user would accept an offer? \n",
    "\n",
    "I've decided to use a single model with offer type as a categorical variable to predict whether or not the consumer will respond to the offer, with 'offer success' as a target variable. This model achieved an AUC score of `around 78 percent`. I also created three separate models for each offer type, with the models for the bogo and discount offer types performing well. Despite the fact that the model performance of the informational offer was significantly worse, it is still acceptable in this stage of research."
   ]
  },
  {
   "cell_type": "code",
   "execution_count": null,
   "id": "a0ee6b95",
   "metadata": {},
   "outputs": [],
   "source": []
  }
 ],
 "metadata": {
  "kernelspec": {
   "display_name": "Python 3 (ipykernel)",
   "language": "python",
   "name": "python3"
  },
  "language_info": {
   "codemirror_mode": {
    "name": "ipython",
    "version": 3
   },
   "file_extension": ".py",
   "mimetype": "text/x-python",
   "name": "python",
   "nbconvert_exporter": "python",
   "pygments_lexer": "ipython3",
   "version": "3.9.13"
  },
  "vscode": {
   "interpreter": {
    "hash": "20d124cb6861d71aacfee9d021dfa76268d43282a6ee1b350dd06eefd9b83dc5"
   }
  }
 },
 "nbformat": 4,
 "nbformat_minor": 5
}
